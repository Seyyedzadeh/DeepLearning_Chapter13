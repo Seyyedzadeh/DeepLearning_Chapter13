{
  "nbformat": 4,
  "nbformat_minor": 0,
  "metadata": {
    "colab": {
      "provenance": [],
      "gpuType": "T4"
    },
    "kernelspec": {
      "name": "python3",
      "language": "python",
      "display_name": "Python 3 (ipykernel)"
    },
    "language_info": {
      "name": "python"
    },
    "accelerator": "GPU"
  },
  "cells": [
    {
      "cell_type": "code",
      "execution_count": 1,
      "metadata": {
        "id": "D_V1F55t-j-5"
      },
      "outputs": [],
      "source": [
        "import tensorflow as tf\n",
        "from keras.datasets import imdb\n",
        "from keras import layers, models, losses, optimizers\n",
        "from keras.utils import pad_sequences"
      ]
    },
    {
      "cell_type": "code",
      "source": [
        "vocab_size = 5000\n",
        "\n",
        "(X_train, y_train), (X_test, y_test) = imdb.load_data(num_words=vocab_size)\n",
        "maxlen = 200\n",
        "\n",
        "X_train = pad_sequences(X_train, maxlen=maxlen)\n",
        "X_test = pad_sequences(X_test, maxlen=maxlen)"
      ],
      "metadata": {
        "colab": {
          "base_uri": "https://localhost:8080/"
        },
        "id": "6LFZVzXB-8GG",
        "outputId": "1a35b7e8-2ec4-4ad0-f1fa-ace0aca9b1b6"
      },
      "execution_count": 2,
      "outputs": [
        {
          "output_type": "stream",
          "name": "stdout",
          "text": [
            "Downloading data from https://storage.googleapis.com/tensorflow/tf-keras-datasets/imdb.npz\n",
            "17464789/17464789 [==============================] - 0s 0us/step\n"
          ]
        }
      ]
    },
    {
      "cell_type": "code",
      "source": [
        "lstm_unit_count = 55\n",
        "drop_out = 0.3\n",
        "rate_of_learning = 0.004\n",
        "\n",
        "\n",
        "tf.random.set_seed(42)\n",
        "embedding_size = 32\n",
        "model = models.Sequential()\n",
        "model.add(layers.Embedding(vocab_size, embedding_size))\n",
        "model.add(layers.LSTM(lstm_unit_count, return_sequences=True, dropout=drop_out))\n",
        "model.add(layers.LSTM(lstm_unit_count, dropout=drop_out))\n",
        "model.add(layers.Dense(1, activation='sigmoid'))\n",
        "\n",
        "optimizer = optimizers.Adam(learning_rate=rate_of_learning)\n",
        "\n",
        "model.compile(loss='binary_crossentropy',\n",
        "              optimizer=optimizer,\n",
        "              metrics=['accuracy'])\n",
        "\n"
      ],
      "metadata": {
        "id": "89dPhgbl_BqM",
        "ExecuteTime": {
          "start_time": "2023-08-01T18:29:24.391998Z",
          "end_time": "2023-08-01T18:29:25.091147Z"
        }
      },
      "execution_count": 4,
      "outputs": []
    },
    {
      "cell_type": "code",
      "source": [
        "n_epoch = 50\n",
        "batch_size = 64\n",
        "\n",
        "model.fit(X_train, y_train,\n",
        "          batch_size=batch_size,\n",
        "          epochs=n_epoch,\n",
        "          validation_data=(X_test, y_test))\n",
        "\n",
        "acc = model.evaluate(X_test, y_test, verbose=0)[1]\n",
        "\n",
        "print('Test accuracy with stacked LSTM:', acc)\n"
      ],
      "metadata": {
        "colab": {
          "base_uri": "https://localhost:8080/"
        },
        "id": "ISX05b6H_Lb5",
        "outputId": "7f4ea41c-5567-4fe0-c32e-98eed476b6f9"
      },
      "execution_count": 5,
      "outputs": [
        {
          "output_type": "stream",
          "name": "stdout",
          "text": [
            "Epoch 1/50\n",
            "391/391 [==============================] - 18s 25ms/step - loss: 0.4726 - accuracy: 0.7754 - val_loss: 0.4501 - val_accuracy: 0.7891\n",
            "Epoch 2/50\n",
            "391/391 [==============================] - 9s 22ms/step - loss: 0.3257 - accuracy: 0.8645 - val_loss: 0.3210 - val_accuracy: 0.8641\n",
            "Epoch 3/50\n",
            "391/391 [==============================] - 9s 23ms/step - loss: 0.2566 - accuracy: 0.8977 - val_loss: 0.3219 - val_accuracy: 0.8752\n",
            "Epoch 4/50\n",
            "391/391 [==============================] - 9s 22ms/step - loss: 0.2039 - accuracy: 0.9217 - val_loss: 0.2870 - val_accuracy: 0.8817\n",
            "Epoch 5/50\n",
            "391/391 [==============================] - 9s 22ms/step - loss: 0.1781 - accuracy: 0.9325 - val_loss: 0.2957 - val_accuracy: 0.8861\n",
            "Epoch 6/50\n",
            "391/391 [==============================] - 11s 27ms/step - loss: 0.1485 - accuracy: 0.9451 - val_loss: 0.3318 - val_accuracy: 0.8820\n",
            "Epoch 7/50\n",
            "391/391 [==============================] - 8s 21ms/step - loss: 0.1253 - accuracy: 0.9533 - val_loss: 0.3277 - val_accuracy: 0.8752\n",
            "Epoch 8/50\n",
            "391/391 [==============================] - 11s 29ms/step - loss: 0.1096 - accuracy: 0.9603 - val_loss: 0.3477 - val_accuracy: 0.8786\n",
            "Epoch 9/50\n",
            "391/391 [==============================] - 9s 23ms/step - loss: 0.0950 - accuracy: 0.9660 - val_loss: 0.3587 - val_accuracy: 0.8749\n",
            "Epoch 10/50\n",
            "391/391 [==============================] - 11s 29ms/step - loss: 0.0887 - accuracy: 0.9679 - val_loss: 0.4025 - val_accuracy: 0.8758\n",
            "Epoch 11/50\n",
            "391/391 [==============================] - 9s 23ms/step - loss: 0.0761 - accuracy: 0.9738 - val_loss: 0.4226 - val_accuracy: 0.8755\n",
            "Epoch 12/50\n",
            "391/391 [==============================] - 8s 21ms/step - loss: 0.0726 - accuracy: 0.9747 - val_loss: 0.4061 - val_accuracy: 0.8694\n",
            "Epoch 13/50\n",
            "391/391 [==============================] - 9s 22ms/step - loss: 0.0679 - accuracy: 0.9757 - val_loss: 0.4354 - val_accuracy: 0.8756\n",
            "Epoch 14/50\n",
            "391/391 [==============================] - 9s 22ms/step - loss: 0.0546 - accuracy: 0.9808 - val_loss: 0.4603 - val_accuracy: 0.8715\n",
            "Epoch 15/50\n",
            "391/391 [==============================] - 11s 28ms/step - loss: 0.0501 - accuracy: 0.9834 - val_loss: 0.5295 - val_accuracy: 0.8732\n",
            "Epoch 16/50\n",
            "391/391 [==============================] - 8s 21ms/step - loss: 0.0504 - accuracy: 0.9818 - val_loss: 0.4792 - val_accuracy: 0.8739\n",
            "Epoch 17/50\n",
            "391/391 [==============================] - 9s 22ms/step - loss: 0.0466 - accuracy: 0.9841 - val_loss: 0.4752 - val_accuracy: 0.8695\n",
            "Epoch 18/50\n",
            "391/391 [==============================] - 11s 29ms/step - loss: 0.0448 - accuracy: 0.9846 - val_loss: 0.5963 - val_accuracy: 0.8628\n",
            "Epoch 19/50\n",
            "391/391 [==============================] - 11s 29ms/step - loss: 0.0417 - accuracy: 0.9857 - val_loss: 0.5027 - val_accuracy: 0.8736\n",
            "Epoch 20/50\n",
            "391/391 [==============================] - 9s 22ms/step - loss: 0.0422 - accuracy: 0.9854 - val_loss: 0.4945 - val_accuracy: 0.8734\n",
            "Epoch 21/50\n",
            "391/391 [==============================] - 8s 21ms/step - loss: 0.0352 - accuracy: 0.9876 - val_loss: 0.5720 - val_accuracy: 0.8708\n",
            "Epoch 22/50\n",
            "391/391 [==============================] - 9s 22ms/step - loss: 0.0334 - accuracy: 0.9882 - val_loss: 0.5689 - val_accuracy: 0.8709\n",
            "Epoch 23/50\n",
            "391/391 [==============================] - 11s 29ms/step - loss: 0.0359 - accuracy: 0.9879 - val_loss: 0.5373 - val_accuracy: 0.8720\n",
            "Epoch 24/50\n",
            "391/391 [==============================] - 9s 23ms/step - loss: 0.0343 - accuracy: 0.9880 - val_loss: 0.5385 - val_accuracy: 0.8672\n",
            "Epoch 25/50\n",
            "391/391 [==============================] - 8s 21ms/step - loss: 0.0322 - accuracy: 0.9888 - val_loss: 0.5650 - val_accuracy: 0.8709\n",
            "Epoch 26/50\n",
            "391/391 [==============================] - 9s 22ms/step - loss: 0.0291 - accuracy: 0.9894 - val_loss: 0.5771 - val_accuracy: 0.8677\n",
            "Epoch 27/50\n",
            "391/391 [==============================] - 9s 23ms/step - loss: 0.0265 - accuracy: 0.9913 - val_loss: 0.6255 - val_accuracy: 0.8710\n",
            "Epoch 28/50\n",
            "391/391 [==============================] - 8s 21ms/step - loss: 0.0258 - accuracy: 0.9915 - val_loss: 0.5421 - val_accuracy: 0.8669\n",
            "Epoch 29/50\n",
            "391/391 [==============================] - 9s 22ms/step - loss: 0.0256 - accuracy: 0.9910 - val_loss: 0.5699 - val_accuracy: 0.8700\n",
            "Epoch 30/50\n",
            "391/391 [==============================] - 9s 22ms/step - loss: 0.0244 - accuracy: 0.9919 - val_loss: 0.6642 - val_accuracy: 0.8718\n",
            "Epoch 31/50\n",
            "391/391 [==============================] - 11s 28ms/step - loss: 0.0253 - accuracy: 0.9911 - val_loss: 0.6445 - val_accuracy: 0.8690\n",
            "Epoch 32/50\n",
            "391/391 [==============================] - 8s 21ms/step - loss: 0.0243 - accuracy: 0.9912 - val_loss: 0.6370 - val_accuracy: 0.8711\n",
            "Epoch 33/50\n",
            "391/391 [==============================] - 9s 22ms/step - loss: 0.0223 - accuracy: 0.9927 - val_loss: 0.6267 - val_accuracy: 0.8708\n",
            "Epoch 34/50\n",
            "391/391 [==============================] - 9s 23ms/step - loss: 0.0241 - accuracy: 0.9917 - val_loss: 0.6614 - val_accuracy: 0.8709\n",
            "Epoch 35/50\n",
            "391/391 [==============================] - 9s 22ms/step - loss: 0.0242 - accuracy: 0.9917 - val_loss: 0.6118 - val_accuracy: 0.8730\n",
            "Epoch 36/50\n",
            "391/391 [==============================] - 8s 21ms/step - loss: 0.0213 - accuracy: 0.9919 - val_loss: 0.5930 - val_accuracy: 0.8681\n",
            "Epoch 37/50\n",
            "391/391 [==============================] - 9s 22ms/step - loss: 0.0252 - accuracy: 0.9915 - val_loss: 0.6017 - val_accuracy: 0.8705\n",
            "Epoch 38/50\n",
            "391/391 [==============================] - 9s 22ms/step - loss: 0.0214 - accuracy: 0.9923 - val_loss: 0.6261 - val_accuracy: 0.8710\n",
            "Epoch 39/50\n",
            "391/391 [==============================] - 8s 21ms/step - loss: 0.0195 - accuracy: 0.9930 - val_loss: 0.6072 - val_accuracy: 0.8718\n",
            "Epoch 40/50\n",
            "391/391 [==============================] - 9s 22ms/step - loss: 0.0215 - accuracy: 0.9932 - val_loss: 0.6574 - val_accuracy: 0.8727\n",
            "Epoch 41/50\n",
            "391/391 [==============================] - 11s 29ms/step - loss: 0.0191 - accuracy: 0.9936 - val_loss: 0.6480 - val_accuracy: 0.8693\n",
            "Epoch 42/50\n",
            "391/391 [==============================] - 9s 22ms/step - loss: 0.0192 - accuracy: 0.9936 - val_loss: 0.7161 - val_accuracy: 0.8676\n",
            "Epoch 43/50\n",
            "391/391 [==============================] - 8s 21ms/step - loss: 0.0162 - accuracy: 0.9942 - val_loss: 0.6781 - val_accuracy: 0.8702\n",
            "Epoch 44/50\n",
            "391/391 [==============================] - 9s 22ms/step - loss: 0.0198 - accuracy: 0.9930 - val_loss: 0.6267 - val_accuracy: 0.8710\n",
            "Epoch 45/50\n",
            "391/391 [==============================] - 9s 22ms/step - loss: 0.0213 - accuracy: 0.9930 - val_loss: 0.6053 - val_accuracy: 0.8668\n",
            "Epoch 46/50\n",
            "391/391 [==============================] - 8s 21ms/step - loss: 0.0199 - accuracy: 0.9932 - val_loss: 0.6490 - val_accuracy: 0.8728\n",
            "Epoch 47/50\n",
            "391/391 [==============================] - 9s 22ms/step - loss: 0.0179 - accuracy: 0.9943 - val_loss: 0.6146 - val_accuracy: 0.8718\n",
            "Epoch 48/50\n",
            "391/391 [==============================] - 9s 23ms/step - loss: 0.0198 - accuracy: 0.9930 - val_loss: 0.6431 - val_accuracy: 0.8665\n",
            "Epoch 49/50\n",
            "391/391 [==============================] - 8s 22ms/step - loss: 0.0158 - accuracy: 0.9949 - val_loss: 0.6826 - val_accuracy: 0.8717\n",
            "Epoch 50/50\n",
            "391/391 [==============================] - 8s 21ms/step - loss: 0.0165 - accuracy: 0.9948 - val_loss: 0.6270 - val_accuracy: 0.8726\n",
            "Test accuracy with stacked LSTM: 0.8726400136947632\n"
          ]
        }
      ]
    }
  ]
}