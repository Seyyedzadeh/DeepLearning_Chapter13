{
  "cells": [
    {
      "cell_type": "code",
      "execution_count": null,
      "metadata": {
        "id": "D_V1F55t-j-5"
      },
      "outputs": [],
      "source": [
        "import tensorflow as tf\n",
        "from keras.datasets import imdb\n",
        "from keras import layers, models, losses, optimizers\n",
        "from keras.utils import pad_sequences"
      ]
    },
    {
      "cell_type": "code",
      "execution_count": null,
      "metadata": {
        "colab": {
          "base_uri": "https://localhost:8080/"
        },
        "id": "6LFZVzXB-8GG",
        "outputId": "60652553-82fe-42ff-e194-c4d4d87c3084"
      },
      "outputs": [
        {
          "output_type": "stream",
          "name": "stdout",
          "text": [
            "Downloading data from https://storage.googleapis.com/tensorflow/tf-keras-datasets/imdb.npz\n",
            "17464789/17464789 [==============================] - 1s 0us/step\n"
          ]
        }
      ],
      "source": [
        "vocab_size = 5000\n",
        "\n",
        "(X_train, y_train), (X_test, y_test) = imdb.load_data(num_words=vocab_size)\n",
        "maxlen = 200\n",
        "\n",
        "X_train = pad_sequences(X_train, maxlen=maxlen)\n",
        "X_test = pad_sequences(X_test, maxlen=maxlen)"
      ]
    },
    {
      "cell_type": "code",
      "execution_count": null,
      "metadata": {
        "id": "89dPhgbl_BqM"
      },
      "outputs": [],
      "source": [
        "tf.random.set_seed(42)\n",
        "embedding_size = 32\n",
        "model = models.Sequential()\n",
        "model.add(layers.Embedding(vocab_size, embedding_size))\n",
        "model.add(layers.LSTM(45, return_sequences=True, dropout=0.2))\n",
        "model.add(layers.LSTM(45, dropout=0.2))\n",
        "model.add(layers.Dense(1, activation='sigmoid'))\n",
        "\n",
        "optimizer = optimizers.Adam(lr=0.003)\n",
        "\n",
        "model.compile(loss='binary_crossentropy',\n",
        "              optimizer=optimizer,\n",
        "              metrics=['accuracy'])\n",
        "\n"
      ]
    },
    {
      "cell_type": "code",
      "execution_count": null,
      "metadata": {
        "colab": {
          "base_uri": "https://localhost:8080/"
        },
        "id": "ISX05b6H_Lb5",
        "outputId": "889d4b64-2fe7-4549-ec83-e58970afe79f"
      },
      "outputs": [
        {
          "output_type": "stream",
          "name": "stdout",
          "text": [
            "Epoch 1/40\n",
            "391/391 [==============================] - 13s 24ms/step - loss: 0.4626 - accuracy: 0.7784 - val_loss: 0.4592 - val_accuracy: 0.7916\n",
            "Epoch 2/40\n",
            "391/391 [==============================] - 9s 22ms/step - loss: 0.3316 - accuracy: 0.8642 - val_loss: 0.3386 - val_accuracy: 0.8564\n",
            "Epoch 3/40\n",
            "391/391 [==============================] - 9s 23ms/step - loss: 0.2652 - accuracy: 0.8952 - val_loss: 0.3685 - val_accuracy: 0.8472\n",
            "Epoch 4/40\n",
            "391/391 [==============================] - 10s 25ms/step - loss: 0.2285 - accuracy: 0.9111 - val_loss: 0.3097 - val_accuracy: 0.8721\n",
            "Epoch 5/40\n",
            "391/391 [==============================] - 8s 21ms/step - loss: 0.1868 - accuracy: 0.9284 - val_loss: 0.3284 - val_accuracy: 0.8744\n",
            "Epoch 6/40\n",
            "391/391 [==============================] - 9s 23ms/step - loss: 0.1549 - accuracy: 0.9401 - val_loss: 0.3441 - val_accuracy: 0.8750\n",
            "Epoch 7/40\n",
            "391/391 [==============================] - 10s 26ms/step - loss: 0.1258 - accuracy: 0.9526 - val_loss: 0.3491 - val_accuracy: 0.8754\n",
            "Epoch 8/40\n",
            "391/391 [==============================] - 9s 23ms/step - loss: 0.1102 - accuracy: 0.9596 - val_loss: 0.3637 - val_accuracy: 0.8713\n",
            "Epoch 9/40\n",
            "391/391 [==============================] - 8s 21ms/step - loss: 0.0953 - accuracy: 0.9653 - val_loss: 0.4410 - val_accuracy: 0.8572\n",
            "Epoch 10/40\n",
            "391/391 [==============================] - 9s 23ms/step - loss: 0.0874 - accuracy: 0.9690 - val_loss: 0.4506 - val_accuracy: 0.8667\n",
            "Epoch 11/40\n",
            "391/391 [==============================] - 9s 23ms/step - loss: 0.0743 - accuracy: 0.9760 - val_loss: 0.4649 - val_accuracy: 0.8680\n",
            "Epoch 12/40\n",
            "391/391 [==============================] - 8s 21ms/step - loss: 0.0668 - accuracy: 0.9782 - val_loss: 0.4677 - val_accuracy: 0.8606\n",
            "Epoch 13/40\n",
            "391/391 [==============================] - 9s 23ms/step - loss: 0.0512 - accuracy: 0.9835 - val_loss: 0.5542 - val_accuracy: 0.8688\n",
            "Epoch 14/40\n",
            "391/391 [==============================] - 9s 24ms/step - loss: 0.0513 - accuracy: 0.9825 - val_loss: 0.5169 - val_accuracy: 0.8650\n",
            "Epoch 15/40\n",
            "391/391 [==============================] - 11s 28ms/step - loss: 0.0472 - accuracy: 0.9842 - val_loss: 0.5167 - val_accuracy: 0.8661\n",
            "Epoch 16/40\n",
            "391/391 [==============================] - 9s 22ms/step - loss: 0.0447 - accuracy: 0.9851 - val_loss: 0.5309 - val_accuracy: 0.8594\n",
            "Epoch 17/40\n",
            "391/391 [==============================] - 9s 23ms/step - loss: 0.0390 - accuracy: 0.9868 - val_loss: 0.5250 - val_accuracy: 0.8662\n",
            "Epoch 18/40\n",
            "391/391 [==============================] - 9s 24ms/step - loss: 0.0350 - accuracy: 0.9889 - val_loss: 0.5689 - val_accuracy: 0.8652\n",
            "Epoch 19/40\n",
            "391/391 [==============================] - 11s 29ms/step - loss: 0.0358 - accuracy: 0.9877 - val_loss: 0.6126 - val_accuracy: 0.8634\n",
            "Epoch 20/40\n",
            "391/391 [==============================] - 11s 28ms/step - loss: 0.0357 - accuracy: 0.9878 - val_loss: 0.5603 - val_accuracy: 0.8634\n",
            "Epoch 21/40\n",
            "391/391 [==============================] - 9s 22ms/step - loss: 0.0303 - accuracy: 0.9901 - val_loss: 0.6046 - val_accuracy: 0.8622\n",
            "Epoch 22/40\n",
            "391/391 [==============================] - 10s 24ms/step - loss: 0.0302 - accuracy: 0.9902 - val_loss: 0.6032 - val_accuracy: 0.8656\n",
            "Epoch 23/40\n",
            "391/391 [==============================] - 9s 24ms/step - loss: 0.0240 - accuracy: 0.9923 - val_loss: 0.6324 - val_accuracy: 0.8613\n",
            "Epoch 24/40\n",
            "391/391 [==============================] - 9s 24ms/step - loss: 0.0250 - accuracy: 0.9915 - val_loss: 0.6334 - val_accuracy: 0.8684\n",
            "Epoch 25/40\n",
            "391/391 [==============================] - 8s 21ms/step - loss: 0.0237 - accuracy: 0.9919 - val_loss: 0.6243 - val_accuracy: 0.8692\n",
            "Epoch 26/40\n",
            "391/391 [==============================] - 9s 23ms/step - loss: 0.0220 - accuracy: 0.9926 - val_loss: 0.6918 - val_accuracy: 0.8602\n",
            "Epoch 27/40\n",
            "391/391 [==============================] - 9s 23ms/step - loss: 0.0219 - accuracy: 0.9928 - val_loss: 0.6366 - val_accuracy: 0.8628\n",
            "Epoch 28/40\n",
            "391/391 [==============================] - 11s 28ms/step - loss: 0.0180 - accuracy: 0.9934 - val_loss: 0.7164 - val_accuracy: 0.8672\n",
            "Epoch 29/40\n",
            "391/391 [==============================] - 8s 21ms/step - loss: 0.0221 - accuracy: 0.9923 - val_loss: 0.6093 - val_accuracy: 0.8632\n",
            "Epoch 30/40\n",
            "391/391 [==============================] - 9s 23ms/step - loss: 0.0198 - accuracy: 0.9936 - val_loss: 0.6286 - val_accuracy: 0.8670\n",
            "Epoch 31/40\n",
            "391/391 [==============================] - 9s 24ms/step - loss: 0.0177 - accuracy: 0.9937 - val_loss: 0.6675 - val_accuracy: 0.8656\n",
            "Epoch 32/40\n",
            "391/391 [==============================] - 9s 22ms/step - loss: 0.0200 - accuracy: 0.9932 - val_loss: 0.6580 - val_accuracy: 0.8677\n",
            "Epoch 33/40\n",
            "391/391 [==============================] - 8s 22ms/step - loss: 0.0150 - accuracy: 0.9953 - val_loss: 0.6878 - val_accuracy: 0.8615\n",
            "Epoch 34/40\n",
            "391/391 [==============================] - 9s 24ms/step - loss: 0.0173 - accuracy: 0.9946 - val_loss: 0.6953 - val_accuracy: 0.8679\n",
            "Epoch 35/40\n",
            "391/391 [==============================] - 9s 23ms/step - loss: 0.0142 - accuracy: 0.9955 - val_loss: 0.7005 - val_accuracy: 0.8641\n",
            "Epoch 36/40\n",
            "391/391 [==============================] - 8s 21ms/step - loss: 0.0187 - accuracy: 0.9942 - val_loss: 0.7017 - val_accuracy: 0.8666\n",
            "Epoch 37/40\n",
            "391/391 [==============================] - 9s 24ms/step - loss: 0.0143 - accuracy: 0.9950 - val_loss: 0.7217 - val_accuracy: 0.8662\n",
            "Epoch 38/40\n",
            "391/391 [==============================] - 9s 23ms/step - loss: 0.0147 - accuracy: 0.9952 - val_loss: 0.7420 - val_accuracy: 0.8630\n",
            "Epoch 39/40\n",
            "391/391 [==============================] - 11s 28ms/step - loss: 0.0145 - accuracy: 0.9953 - val_loss: 0.6949 - val_accuracy: 0.8694\n",
            "Epoch 40/40\n",
            "391/391 [==============================] - 8s 21ms/step - loss: 0.0127 - accuracy: 0.9963 - val_loss: 0.7318 - val_accuracy: 0.8663\n",
            "Test accuracy with stacked LSTM: 0.8662800192832947\n"
          ]
        }
      ],
      "source": [
        "n_epoch = 40\n",
        "batch_size = 64\n",
        "\n",
        "model.fit(X_train, y_train,\n",
        "          batch_size=batch_size,\n",
        "          epochs=n_epoch,\n",
        "          validation_data=(X_test, y_test))\n",
        "\n",
        "acc = model.evaluate(X_test, y_test, verbose=0)[1]\n",
        "\n",
        "print('Test accuracy with stacked LSTM:', acc)\n"
      ]
    }
  ],
  "metadata": {
    "accelerator": "GPU",
    "colab": {
      "gpuType": "T4",
      "provenance": []
    },
    "kernelspec": {
      "display_name": "Python 3",
      "name": "python3"
    },
    "language_info": {
      "codemirror_mode": {
        "name": "ipython",
        "version": 3
      },
      "file_extension": ".py",
      "mimetype": "text/x-python",
      "name": "python",
      "nbconvert_exporter": "python",
      "pygments_lexer": "ipython3",
      "version": "3.11.4"
    }
  },
  "nbformat": 4,
  "nbformat_minor": 0
}